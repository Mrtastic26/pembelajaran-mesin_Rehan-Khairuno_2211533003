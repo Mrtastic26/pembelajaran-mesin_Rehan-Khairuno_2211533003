{
  "nbformat": 4,
  "nbformat_minor": 0,
  "metadata": {
    "colab": {
      "provenance": [],
      "toc_visible": true,
      "authorship_tag": "ABX9TyNBJ6WLMenrhxzHv9Oe2TH7",
      "include_colab_link": true
    },
    "kernelspec": {
      "name": "python3",
      "display_name": "Python 3"
    },
    "language_info": {
      "name": "python"
    }
  },
  "cells": [
    {
      "cell_type": "markdown",
      "metadata": {
        "id": "view-in-github",
        "colab_type": "text"
      },
      "source": [
        "<a href=\"https://colab.research.google.com/github/Mrtastic26/pembelajaran-mesin_Rehan-Khairuno_2211533003/blob/main/Pratikum_Pmesin.ipynb\" target=\"_parent\"><img src=\"https://colab.research.google.com/assets/colab-badge.svg\" alt=\"Open In Colab\"/></a>"
      ]
    },
    {
      "cell_type": "code",
      "execution_count": 4,
      "metadata": {
        "colab": {
          "base_uri": "https://localhost:8080/"
        },
        "id": "lDUt6Dhf8gtW",
        "outputId": "b2f5e305-a114-4ec7-cdc6-8b0ceb7d3038"
      },
      "outputs": [
        {
          "output_type": "stream",
          "name": "stdout",
          "text": [
            "fatal: destination path 'pembelajaran-mesin_Rehan-Khairuno_2211533003' already exists and is not an empty directory.\n"
          ]
        }
      ],
      "source": [
        "!git clone https://github.com/Mrtastic26/pembelajaran-mesin_Rehan-Khairuno_2211533003.git"
      ]
    },
    {
      "cell_type": "code",
      "source": [],
      "metadata": {
        "id": "31lLo0H99qrW"
      },
      "execution_count": null,
      "outputs": []
    }
  ]
}