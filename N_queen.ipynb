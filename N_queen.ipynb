{
  "nbformat": 4,
  "nbformat_minor": 0,
  "metadata": {
    "colab": {
      "provenance": [],
      "authorship_tag": "ABX9TyPIbMDAJsKq7H/4ZvUZ1UD9",
      "include_colab_link": true
    },
    "kernelspec": {
      "name": "python3",
      "display_name": "Python 3"
    },
    "language_info": {
      "name": "python"
    }
  },
  "cells": [
    {
      "cell_type": "markdown",
      "metadata": {
        "id": "view-in-github",
        "colab_type": "text"
      },
      "source": [
        "<a href=\"https://colab.research.google.com/github/Mrtastic26/pembelajaran-mesin_Rehan-Khairuno_2211533003/blob/main/N_queen.ipynb\" target=\"_parent\"><img src=\"https://colab.research.google.com/assets/colab-badge.svg\" alt=\"Open In Colab\"/></a>"
      ]
    },
    {
      "cell_type": "code",
      "execution_count": 1,
      "metadata": {
        "colab": {
          "base_uri": "https://localhost:8080/"
        },
        "id": "uAdJvwr5Sv-Y",
        "outputId": "15a7a789-849c-48ec-c803-6179efccc8fc"
      },
      "outputs": [
        {
          "output_type": "stream",
          "name": "stdout",
          "text": [
            ". Q . . \n",
            ". . . Q \n",
            "Q . . . \n",
            ". . Q . \n",
            "\n"
          ]
        }
      ],
      "source": [
        "def print_solution(board, N):\n",
        "    for i in range(N):\n",
        "        for j in range(N):\n",
        "            if board[i][j] == 1:\n",
        "                print(\"Q\", end=\" \")\n",
        "            else:\n",
        "                print(\".\", end=\" \")\n",
        "        print()\n",
        "    print()\n",
        "\n",
        "def is_safe(board, row, col, N):\n",
        "    # Check the column on this row\n",
        "    for i in range(row):\n",
        "        if board[i][col] == 1:\n",
        "            return False\n",
        "\n",
        "    # Check upper diagonal on left side\n",
        "    i, j = row, col\n",
        "    while i >= 0 and j >= 0:\n",
        "        if board[i][j] == 1:\n",
        "            return False\n",
        "        i -= 1\n",
        "        j -= 1\n",
        "\n",
        "    # Check upper diagonal on right side\n",
        "    i, j = row, col\n",
        "    while i >= 0 and j < N:\n",
        "        if board[i][j] == 1:\n",
        "            return False\n",
        "        i -= 1\n",
        "        j += 1\n",
        "\n",
        "    return True\n",
        "\n",
        "def solve_n_queens(N):\n",
        "    board = [[0] * N for _ in range(N)]\n",
        "\n",
        "    def backtrack(row):\n",
        "        if row >= N:\n",
        "            # All queens are placed correctly\n",
        "            print_solution(board, N)\n",
        "            return True\n",
        "\n",
        "        for col in range(N):\n",
        "            if is_safe(board, row, col, N):\n",
        "                board[row][col] = 1\n",
        "                if backtrack(row + 1):\n",
        "                    return True\n",
        "                # Backtrack\n",
        "                board[row][col] = 0\n",
        "\n",
        "        return False\n",
        "\n",
        "    backtrack(0)\n",
        "\n",
        "# Contoh pemanggilan fungsi untuk N = 4\n",
        "N = 4\n",
        "solve_n_queens(N)\n"
      ]
    }
  ]
}